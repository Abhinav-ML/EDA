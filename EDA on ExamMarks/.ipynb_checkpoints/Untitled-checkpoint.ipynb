{
 "cells": [
  {
   "cell_type": "markdown",
   "id": "6271f073",
   "metadata": {},
   "source": [
    "## Dataset Link :\n",
    "https://www.kaggle.com/datasets/spscientist/students-performance-in-exams"
   ]
  },
  {
   "cell_type": "code",
   "execution_count": 2,
   "id": "5330b053",
   "metadata": {},
   "outputs": [],
   "source": [
    "#importing libraries\n",
    "import numpy as np\n",
    "import pandas as pd\n",
    "import matplotlib.pyplot as plt\n",
    "import seaborn as sns\n",
    "%matplotlib inline\n",
    "import warnings\n",
    "warnings.filterwarnings('ignore')"
   ]
  },
  {
   "cell_type": "code",
   "execution_count": 5,
   "id": "c0a6b13d",
   "metadata": {},
   "outputs": [],
   "source": [
    "# Import dataset\n",
    "data=pd.read_csv(\"StudentsPerformance.csv\")"
   ]
  },
  {
   "cell_type": "markdown",
   "id": "ad0240fd",
   "metadata": {},
   "source": [
    "## Profiling of data"
   ]
  },
  {
   "cell_type": "code",
   "execution_count": 6,
   "id": "f9bbb9eb",
   "metadata": {},
   "outputs": [],
   "source": [
    "# check top 5 rows\n",
    "# check the last 5 rows\n",
    "# check nos. of rows and columns\n",
    "# classify categorical variable(nominal : order doesn't matter & ordinal : order matter) and \n",
    "# numerical variable (continuous/discrete)\n",
    "# check the info\n",
    "# segregate numerical and categorical variable\n",
    "# check how much memory each column is using hint use memory_usage()\n",
    "\n"
   ]
  },
  {
   "cell_type": "markdown",
   "id": "fe40a4ba",
   "metadata": {},
   "source": [
    "## checking missing values"
   ]
  },
  {
   "cell_type": "code",
   "execution_count": null,
   "id": "9cf5e8cd",
   "metadata": {},
   "outputs": [],
   "source": [
    "# check null/missing values w.r.t each column\n",
    "# check total nos. of missing value w.r.t to whole data\n"
   ]
  },
  {
   "cell_type": "markdown",
   "id": "2aeaa877",
   "metadata": {},
   "source": [
    "## check duplicates values"
   ]
  },
  {
   "cell_type": "code",
   "execution_count": 7,
   "id": "658ffb75",
   "metadata": {},
   "outputs": [],
   "source": [
    "# use duplicated()\n",
    "# check duplicate values w.r.t each row\n",
    "# check duplicates values w.r.t total rows\n"
   ]
  },
  {
   "cell_type": "markdown",
   "id": "2e503317",
   "metadata": {},
   "source": [
    "## check unique values"
   ]
  },
  {
   "cell_type": "code",
   "execution_count": 8,
   "id": "55f9403a",
   "metadata": {},
   "outputs": [],
   "source": [
    "# check total no. of unique values w.r.t every column * hint : use nunique()\n",
    "# check total no. of unique values w.r.t every column * hint : use unique()"
   ]
  },
  {
   "cell_type": "code",
   "execution_count": null,
   "id": "cc33b1db",
   "metadata": {},
   "outputs": [],
   "source": []
  }
 ],
 "metadata": {
  "kernelspec": {
   "display_name": "Python 3 (ipykernel)",
   "language": "python",
   "name": "python3"
  },
  "language_info": {
   "codemirror_mode": {
    "name": "ipython",
    "version": 3
   },
   "file_extension": ".py",
   "mimetype": "text/x-python",
   "name": "python",
   "nbconvert_exporter": "python",
   "pygments_lexer": "ipython3",
   "version": "3.10.0"
  }
 },
 "nbformat": 4,
 "nbformat_minor": 5
}
